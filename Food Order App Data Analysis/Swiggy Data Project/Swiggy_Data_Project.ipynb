{
 "cells": [
  {
   "cell_type": "markdown",
   "id": "69da28e1-2d5a-4cf3-8ef8-c2040c2d8602",
   "metadata": {},
   "source": [
    "# Swiggy Data Analysis Project"
   ]
  },
  {
   "cell_type": "raw",
   "id": "3749e09c-0d35-4a9f-9734-ddb8b7b29ff5",
   "metadata": {},
   "source": [
    "# Description: Swiggy has an average of 15.8 million monthly transacting customers for its food delivery business.e average monthly active food delivery restaurant partners on Swiggy's platform have also increased by 8.7% year-on-year, from 208,000 to 226,000.You are working in a data-driven role at Swiggy. You have a dataset of customers. As a data professional, you need to analyze the data, perform EDA (Exploratory Data Analysis) and visualization, and answer the following questions:"
   ]
  },
  {
   "cell_type": "raw",
   "id": "3dac10bd-ba92-4985-94fd-bd503d554284",
   "metadata": {},
   "source": [
    "1) What type of restaurant do the majority of customers order from?\n",
    "2) How many votes has each type of restaurant received from customers?\n",
    "3) What are the ratings that the majority of restaurants have received?\n",
    "4) Swiggy has observed that most couples order most of their food online. What is their average spending on each order?\n",
    "5) Which mode (online or offline) has received the maximum rating?\n",
    "6) Which type of restaurant received more offline orders, so that Swiggy can provide those customers with some good offers?"
   ]
  },
  {
   "cell_type": "markdown",
   "id": "7bb1f6b0-fee7-4916-a626-514fe638e898",
   "metadata": {},
   "source": [
    "# Implementation:"
   ]
  },
  {
   "cell_type": "raw",
   "id": "b9a20662-edfa-4d38-ae25-397b1350e9e9",
   "metadata": {},
   "source": [
    "Step 1: Importing Libraries\n",
    "\n",
    "        pandas                       ==> used for data manipulation and analysis.\n",
    "        numpy                        ==> used for numerical operaryions.\n",
    "        matplotlip.pyplot & seaborn  ==> used data visualization."
   ]
  },
  {
   "cell_type": "code",
   "execution_count": 92,
   "id": "ca14adbe-7475-4b67-a201-eae37eed57e3",
   "metadata": {},
   "outputs": [],
   "source": [
    "import pandas as pd\n",
    "import numpy as np\n",
    "import matplotlib.pyplot as plt\n",
    "import seaborn as sns"
   ]
  },
  {
   "cell_type": "raw",
   "id": "063f0c53-95c3-4ec1-9605-3b22d1a4cbee",
   "metadata": {},
   "source": [
    "Step 2: Create the data frame "
   ]
  },
  {
   "cell_type": "code",
   "execution_count": 93,
   "id": "889218a2-72fb-4702-9b01-7854e1062a9f",
   "metadata": {},
   "outputs": [
    {
     "name": "stdout",
     "output_type": "stream",
     "text": [
      "                      name online_order book_table   rate  votes  \\\n",
      "0                    Jalsa          Yes        Yes  4.1/5    775   \n",
      "1           Spice Elephant          Yes         No  4.1/5    787   \n",
      "2          San Churro Cafe          Yes         No  3.8/5    918   \n",
      "3    Addhuri Udupi Bhojana           No         No  3.7/5     88   \n",
      "4            Grand Village           No         No  3.8/5    166   \n",
      "..                     ...          ...        ...    ...    ...   \n",
      "143       Melting Melodies           No         No  3.3/5      0   \n",
      "144        New Indraprasta           No         No  3.3/5      0   \n",
      "145           Anna Kuteera          Yes         No  4.0/5    771   \n",
      "146                 Darbar           No         No  3.0/5     98   \n",
      "147          Vijayalakshmi          Yes         No  3.9/5     47   \n",
      "\n",
      "     approx_cost(for two people) listed_in(type)  \n",
      "0                            800          Buffet  \n",
      "1                            800          Buffet  \n",
      "2                            800          Buffet  \n",
      "3                            300          Buffet  \n",
      "4                            600          Buffet  \n",
      "..                           ...             ...  \n",
      "143                          100          Dining  \n",
      "144                          150          Dining  \n",
      "145                          450          Dining  \n",
      "146                          800          Dining  \n",
      "147                          200          Dining  \n",
      "\n",
      "[148 rows x 7 columns]\n"
     ]
    }
   ],
   "source": [
    "dataframe = pd.read_csv('Swiggy data .csv')\n",
    "print(dataframe)"
   ]
  },
  {
   "cell_type": "code",
   "execution_count": 94,
   "id": "63584be2-84be-444f-8951-a086e41a17f3",
   "metadata": {},
   "outputs": [
    {
     "data": {
      "text/html": [
       "<div>\n",
       "<style scoped>\n",
       "    .dataframe tbody tr th:only-of-type {\n",
       "        vertical-align: middle;\n",
       "    }\n",
       "\n",
       "    .dataframe tbody tr th {\n",
       "        vertical-align: top;\n",
       "    }\n",
       "\n",
       "    .dataframe thead th {\n",
       "        text-align: right;\n",
       "    }\n",
       "</style>\n",
       "<table border=\"1\" class=\"dataframe\">\n",
       "  <thead>\n",
       "    <tr style=\"text-align: right;\">\n",
       "      <th></th>\n",
       "      <th>name</th>\n",
       "      <th>online_order</th>\n",
       "      <th>book_table</th>\n",
       "      <th>rate</th>\n",
       "      <th>votes</th>\n",
       "      <th>approx_cost(for two people)</th>\n",
       "      <th>listed_in(type)</th>\n",
       "    </tr>\n",
       "  </thead>\n",
       "  <tbody>\n",
       "    <tr>\n",
       "      <th>0</th>\n",
       "      <td>Jalsa</td>\n",
       "      <td>Yes</td>\n",
       "      <td>Yes</td>\n",
       "      <td>4.1/5</td>\n",
       "      <td>775</td>\n",
       "      <td>800</td>\n",
       "      <td>Buffet</td>\n",
       "    </tr>\n",
       "    <tr>\n",
       "      <th>1</th>\n",
       "      <td>Spice Elephant</td>\n",
       "      <td>Yes</td>\n",
       "      <td>No</td>\n",
       "      <td>4.1/5</td>\n",
       "      <td>787</td>\n",
       "      <td>800</td>\n",
       "      <td>Buffet</td>\n",
       "    </tr>\n",
       "    <tr>\n",
       "      <th>2</th>\n",
       "      <td>San Churro Cafe</td>\n",
       "      <td>Yes</td>\n",
       "      <td>No</td>\n",
       "      <td>3.8/5</td>\n",
       "      <td>918</td>\n",
       "      <td>800</td>\n",
       "      <td>Buffet</td>\n",
       "    </tr>\n",
       "    <tr>\n",
       "      <th>3</th>\n",
       "      <td>Addhuri Udupi Bhojana</td>\n",
       "      <td>No</td>\n",
       "      <td>No</td>\n",
       "      <td>3.7/5</td>\n",
       "      <td>88</td>\n",
       "      <td>300</td>\n",
       "      <td>Buffet</td>\n",
       "    </tr>\n",
       "    <tr>\n",
       "      <th>4</th>\n",
       "      <td>Grand Village</td>\n",
       "      <td>No</td>\n",
       "      <td>No</td>\n",
       "      <td>3.8/5</td>\n",
       "      <td>166</td>\n",
       "      <td>600</td>\n",
       "      <td>Buffet</td>\n",
       "    </tr>\n",
       "    <tr>\n",
       "      <th>...</th>\n",
       "      <td>...</td>\n",
       "      <td>...</td>\n",
       "      <td>...</td>\n",
       "      <td>...</td>\n",
       "      <td>...</td>\n",
       "      <td>...</td>\n",
       "      <td>...</td>\n",
       "    </tr>\n",
       "    <tr>\n",
       "      <th>143</th>\n",
       "      <td>Melting Melodies</td>\n",
       "      <td>No</td>\n",
       "      <td>No</td>\n",
       "      <td>3.3/5</td>\n",
       "      <td>0</td>\n",
       "      <td>100</td>\n",
       "      <td>Dining</td>\n",
       "    </tr>\n",
       "    <tr>\n",
       "      <th>144</th>\n",
       "      <td>New Indraprasta</td>\n",
       "      <td>No</td>\n",
       "      <td>No</td>\n",
       "      <td>3.3/5</td>\n",
       "      <td>0</td>\n",
       "      <td>150</td>\n",
       "      <td>Dining</td>\n",
       "    </tr>\n",
       "    <tr>\n",
       "      <th>145</th>\n",
       "      <td>Anna Kuteera</td>\n",
       "      <td>Yes</td>\n",
       "      <td>No</td>\n",
       "      <td>4.0/5</td>\n",
       "      <td>771</td>\n",
       "      <td>450</td>\n",
       "      <td>Dining</td>\n",
       "    </tr>\n",
       "    <tr>\n",
       "      <th>146</th>\n",
       "      <td>Darbar</td>\n",
       "      <td>No</td>\n",
       "      <td>No</td>\n",
       "      <td>3.0/5</td>\n",
       "      <td>98</td>\n",
       "      <td>800</td>\n",
       "      <td>Dining</td>\n",
       "    </tr>\n",
       "    <tr>\n",
       "      <th>147</th>\n",
       "      <td>Vijayalakshmi</td>\n",
       "      <td>Yes</td>\n",
       "      <td>No</td>\n",
       "      <td>3.9/5</td>\n",
       "      <td>47</td>\n",
       "      <td>200</td>\n",
       "      <td>Dining</td>\n",
       "    </tr>\n",
       "  </tbody>\n",
       "</table>\n",
       "<p>148 rows × 7 columns</p>\n",
       "</div>"
      ],
      "text/plain": [
       "                      name online_order book_table   rate  votes  \\\n",
       "0                    Jalsa          Yes        Yes  4.1/5    775   \n",
       "1           Spice Elephant          Yes         No  4.1/5    787   \n",
       "2          San Churro Cafe          Yes         No  3.8/5    918   \n",
       "3    Addhuri Udupi Bhojana           No         No  3.7/5     88   \n",
       "4            Grand Village           No         No  3.8/5    166   \n",
       "..                     ...          ...        ...    ...    ...   \n",
       "143       Melting Melodies           No         No  3.3/5      0   \n",
       "144        New Indraprasta           No         No  3.3/5      0   \n",
       "145           Anna Kuteera          Yes         No  4.0/5    771   \n",
       "146                 Darbar           No         No  3.0/5     98   \n",
       "147          Vijayalakshmi          Yes         No  3.9/5     47   \n",
       "\n",
       "     approx_cost(for two people) listed_in(type)  \n",
       "0                            800          Buffet  \n",
       "1                            800          Buffet  \n",
       "2                            800          Buffet  \n",
       "3                            300          Buffet  \n",
       "4                            600          Buffet  \n",
       "..                           ...             ...  \n",
       "143                          100          Dining  \n",
       "144                          150          Dining  \n",
       "145                          450          Dining  \n",
       "146                          800          Dining  \n",
       "147                          200          Dining  \n",
       "\n",
       "[148 rows x 7 columns]"
      ]
     },
     "execution_count": 94,
     "metadata": {},
     "output_type": "execute_result"
    }
   ],
   "source": [
    "dataframe"
   ]
  },
  {
   "cell_type": "markdown",
   "id": "8befe1ba-f037-4789-a12f-dc123fed1361",
   "metadata": {},
   "source": [
    "# Data Check/ Data Cleaning"
   ]
  },
  {
   "cell_type": "markdown",
   "id": "3d41576c-3f1f-4070-9e25-ffae9a3ff41f",
   "metadata": {},
   "source": [
    "Convert of data type of Column - rate"
   ]
  },
  {
   "cell_type": "code",
   "execution_count": 95,
   "id": "12aee7b3-e3ff-4284-aa37-4e037140cf8d",
   "metadata": {},
   "outputs": [
    {
     "name": "stdout",
     "output_type": "stream",
     "text": [
      "                      name online_order book_table  rate  votes  \\\n",
      "0                    Jalsa          Yes        Yes   4.1    775   \n",
      "1           Spice Elephant          Yes         No   4.1    787   \n",
      "2          San Churro Cafe          Yes         No   3.8    918   \n",
      "3    Addhuri Udupi Bhojana           No         No   3.7     88   \n",
      "4            Grand Village           No         No   3.8    166   \n",
      "..                     ...          ...        ...   ...    ...   \n",
      "143       Melting Melodies           No         No   3.3      0   \n",
      "144        New Indraprasta           No         No   3.3      0   \n",
      "145           Anna Kuteera          Yes         No   4.0    771   \n",
      "146                 Darbar           No         No   3.0     98   \n",
      "147          Vijayalakshmi          Yes         No   3.9     47   \n",
      "\n",
      "     approx_cost(for two people) listed_in(type)  \n",
      "0                            800          Buffet  \n",
      "1                            800          Buffet  \n",
      "2                            800          Buffet  \n",
      "3                            300          Buffet  \n",
      "4                            600          Buffet  \n",
      "..                           ...             ...  \n",
      "143                          100          Dining  \n",
      "144                          150          Dining  \n",
      "145                          450          Dining  \n",
      "146                          800          Dining  \n",
      "147                          200          Dining  \n",
      "\n",
      "[148 rows x 7 columns]\n"
     ]
    },
    {
     "data": {
      "text/html": [
       "<div>\n",
       "<style scoped>\n",
       "    .dataframe tbody tr th:only-of-type {\n",
       "        vertical-align: middle;\n",
       "    }\n",
       "\n",
       "    .dataframe tbody tr th {\n",
       "        vertical-align: top;\n",
       "    }\n",
       "\n",
       "    .dataframe thead th {\n",
       "        text-align: right;\n",
       "    }\n",
       "</style>\n",
       "<table border=\"1\" class=\"dataframe\">\n",
       "  <thead>\n",
       "    <tr style=\"text-align: right;\">\n",
       "      <th></th>\n",
       "      <th>name</th>\n",
       "      <th>online_order</th>\n",
       "      <th>book_table</th>\n",
       "      <th>rate</th>\n",
       "      <th>votes</th>\n",
       "      <th>approx_cost(for two people)</th>\n",
       "      <th>listed_in(type)</th>\n",
       "    </tr>\n",
       "  </thead>\n",
       "  <tbody>\n",
       "    <tr>\n",
       "      <th>0</th>\n",
       "      <td>Jalsa</td>\n",
       "      <td>Yes</td>\n",
       "      <td>Yes</td>\n",
       "      <td>4.1</td>\n",
       "      <td>775</td>\n",
       "      <td>800</td>\n",
       "      <td>Buffet</td>\n",
       "    </tr>\n",
       "    <tr>\n",
       "      <th>1</th>\n",
       "      <td>Spice Elephant</td>\n",
       "      <td>Yes</td>\n",
       "      <td>No</td>\n",
       "      <td>4.1</td>\n",
       "      <td>787</td>\n",
       "      <td>800</td>\n",
       "      <td>Buffet</td>\n",
       "    </tr>\n",
       "    <tr>\n",
       "      <th>2</th>\n",
       "      <td>San Churro Cafe</td>\n",
       "      <td>Yes</td>\n",
       "      <td>No</td>\n",
       "      <td>3.8</td>\n",
       "      <td>918</td>\n",
       "      <td>800</td>\n",
       "      <td>Buffet</td>\n",
       "    </tr>\n",
       "    <tr>\n",
       "      <th>3</th>\n",
       "      <td>Addhuri Udupi Bhojana</td>\n",
       "      <td>No</td>\n",
       "      <td>No</td>\n",
       "      <td>3.7</td>\n",
       "      <td>88</td>\n",
       "      <td>300</td>\n",
       "      <td>Buffet</td>\n",
       "    </tr>\n",
       "    <tr>\n",
       "      <th>4</th>\n",
       "      <td>Grand Village</td>\n",
       "      <td>No</td>\n",
       "      <td>No</td>\n",
       "      <td>3.8</td>\n",
       "      <td>166</td>\n",
       "      <td>600</td>\n",
       "      <td>Buffet</td>\n",
       "    </tr>\n",
       "    <tr>\n",
       "      <th>...</th>\n",
       "      <td>...</td>\n",
       "      <td>...</td>\n",
       "      <td>...</td>\n",
       "      <td>...</td>\n",
       "      <td>...</td>\n",
       "      <td>...</td>\n",
       "      <td>...</td>\n",
       "    </tr>\n",
       "    <tr>\n",
       "      <th>143</th>\n",
       "      <td>Melting Melodies</td>\n",
       "      <td>No</td>\n",
       "      <td>No</td>\n",
       "      <td>3.3</td>\n",
       "      <td>0</td>\n",
       "      <td>100</td>\n",
       "      <td>Dining</td>\n",
       "    </tr>\n",
       "    <tr>\n",
       "      <th>144</th>\n",
       "      <td>New Indraprasta</td>\n",
       "      <td>No</td>\n",
       "      <td>No</td>\n",
       "      <td>3.3</td>\n",
       "      <td>0</td>\n",
       "      <td>150</td>\n",
       "      <td>Dining</td>\n",
       "    </tr>\n",
       "    <tr>\n",
       "      <th>145</th>\n",
       "      <td>Anna Kuteera</td>\n",
       "      <td>Yes</td>\n",
       "      <td>No</td>\n",
       "      <td>4.0</td>\n",
       "      <td>771</td>\n",
       "      <td>450</td>\n",
       "      <td>Dining</td>\n",
       "    </tr>\n",
       "    <tr>\n",
       "      <th>146</th>\n",
       "      <td>Darbar</td>\n",
       "      <td>No</td>\n",
       "      <td>No</td>\n",
       "      <td>3.0</td>\n",
       "      <td>98</td>\n",
       "      <td>800</td>\n",
       "      <td>Dining</td>\n",
       "    </tr>\n",
       "    <tr>\n",
       "      <th>147</th>\n",
       "      <td>Vijayalakshmi</td>\n",
       "      <td>Yes</td>\n",
       "      <td>No</td>\n",
       "      <td>3.9</td>\n",
       "      <td>47</td>\n",
       "      <td>200</td>\n",
       "      <td>Dining</td>\n",
       "    </tr>\n",
       "  </tbody>\n",
       "</table>\n",
       "<p>148 rows × 7 columns</p>\n",
       "</div>"
      ],
      "text/plain": [
       "                      name online_order book_table  rate  votes  \\\n",
       "0                    Jalsa          Yes        Yes   4.1    775   \n",
       "1           Spice Elephant          Yes         No   4.1    787   \n",
       "2          San Churro Cafe          Yes         No   3.8    918   \n",
       "3    Addhuri Udupi Bhojana           No         No   3.7     88   \n",
       "4            Grand Village           No         No   3.8    166   \n",
       "..                     ...          ...        ...   ...    ...   \n",
       "143       Melting Melodies           No         No   3.3      0   \n",
       "144        New Indraprasta           No         No   3.3      0   \n",
       "145           Anna Kuteera          Yes         No   4.0    771   \n",
       "146                 Darbar           No         No   3.0     98   \n",
       "147          Vijayalakshmi          Yes         No   3.9     47   \n",
       "\n",
       "     approx_cost(for two people) listed_in(type)  \n",
       "0                            800          Buffet  \n",
       "1                            800          Buffet  \n",
       "2                            800          Buffet  \n",
       "3                            300          Buffet  \n",
       "4                            600          Buffet  \n",
       "..                           ...             ...  \n",
       "143                          100          Dining  \n",
       "144                          150          Dining  \n",
       "145                          450          Dining  \n",
       "146                          800          Dining  \n",
       "147                          200          Dining  \n",
       "\n",
       "[148 rows x 7 columns]"
      ]
     },
     "execution_count": 95,
     "metadata": {},
     "output_type": "execute_result"
    }
   ],
   "source": [
    "def handleRate (value): # def is a user defined function\n",
    "    value = str (value).split('/')\n",
    "    return float(value[0])\n",
    "\n",
    "dataframe['rate'] = dataframe['rate'].apply(handleRate)\n",
    "print(dataframe)\n",
    "\n",
    "dataframe"
   ]
  },
  {
   "cell_type": "code",
   "execution_count": 96,
   "id": "066a9d75-6239-4605-93b0-2f0c99fd2c41",
   "metadata": {},
   "outputs": [
    {
     "name": "stdout",
     "output_type": "stream",
     "text": [
      "<class 'pandas.core.frame.DataFrame'>\n",
      "RangeIndex: 148 entries, 0 to 147\n",
      "Data columns (total 7 columns):\n",
      " #   Column                       Non-Null Count  Dtype  \n",
      "---  ------                       --------------  -----  \n",
      " 0   name                         148 non-null    object \n",
      " 1   online_order                 148 non-null    object \n",
      " 2   book_table                   148 non-null    object \n",
      " 3   rate                         148 non-null    float64\n",
      " 4   votes                        148 non-null    int64  \n",
      " 5   approx_cost(for two people)  148 non-null    int64  \n",
      " 6   listed_in(type)              148 non-null    object \n",
      "dtypes: float64(1), int64(2), object(4)\n",
      "memory usage: 8.2+ KB\n"
     ]
    }
   ],
   "source": [
    "# check missing value\n",
    "\n",
    "dataframe.info()"
   ]
  },
  {
   "cell_type": "markdown",
   "id": "a4434ae8-b213-4e9e-ae98-1551dc2da590",
   "metadata": {},
   "source": [
    "# 1) Type of Restaurant.. [Bar Graph]"
   ]
  },
  {
   "cell_type": "code",
   "execution_count": 97,
   "id": "3e3a5036-9b90-4546-92d9-e6f63f5483f9",
   "metadata": {},
   "outputs": [
    {
     "data": {
      "text/html": [
       "<div>\n",
       "<style scoped>\n",
       "    .dataframe tbody tr th:only-of-type {\n",
       "        vertical-align: middle;\n",
       "    }\n",
       "\n",
       "    .dataframe tbody tr th {\n",
       "        vertical-align: top;\n",
       "    }\n",
       "\n",
       "    .dataframe thead th {\n",
       "        text-align: right;\n",
       "    }\n",
       "</style>\n",
       "<table border=\"1\" class=\"dataframe\">\n",
       "  <thead>\n",
       "    <tr style=\"text-align: right;\">\n",
       "      <th></th>\n",
       "      <th>name</th>\n",
       "      <th>online_order</th>\n",
       "      <th>book_table</th>\n",
       "      <th>rate</th>\n",
       "      <th>votes</th>\n",
       "      <th>approx_cost(for two people)</th>\n",
       "      <th>listed_in(type)</th>\n",
       "    </tr>\n",
       "  </thead>\n",
       "  <tbody>\n",
       "    <tr>\n",
       "      <th>0</th>\n",
       "      <td>Jalsa</td>\n",
       "      <td>Yes</td>\n",
       "      <td>Yes</td>\n",
       "      <td>4.1</td>\n",
       "      <td>775</td>\n",
       "      <td>800</td>\n",
       "      <td>Buffet</td>\n",
       "    </tr>\n",
       "    <tr>\n",
       "      <th>1</th>\n",
       "      <td>Spice Elephant</td>\n",
       "      <td>Yes</td>\n",
       "      <td>No</td>\n",
       "      <td>4.1</td>\n",
       "      <td>787</td>\n",
       "      <td>800</td>\n",
       "      <td>Buffet</td>\n",
       "    </tr>\n",
       "    <tr>\n",
       "      <th>2</th>\n",
       "      <td>San Churro Cafe</td>\n",
       "      <td>Yes</td>\n",
       "      <td>No</td>\n",
       "      <td>3.8</td>\n",
       "      <td>918</td>\n",
       "      <td>800</td>\n",
       "      <td>Buffet</td>\n",
       "    </tr>\n",
       "    <tr>\n",
       "      <th>3</th>\n",
       "      <td>Addhuri Udupi Bhojana</td>\n",
       "      <td>No</td>\n",
       "      <td>No</td>\n",
       "      <td>3.7</td>\n",
       "      <td>88</td>\n",
       "      <td>300</td>\n",
       "      <td>Buffet</td>\n",
       "    </tr>\n",
       "    <tr>\n",
       "      <th>4</th>\n",
       "      <td>Grand Village</td>\n",
       "      <td>No</td>\n",
       "      <td>No</td>\n",
       "      <td>3.8</td>\n",
       "      <td>166</td>\n",
       "      <td>600</td>\n",
       "      <td>Buffet</td>\n",
       "    </tr>\n",
       "  </tbody>\n",
       "</table>\n",
       "</div>"
      ],
      "text/plain": [
       "                    name online_order book_table  rate  votes  \\\n",
       "0                  Jalsa          Yes        Yes   4.1    775   \n",
       "1         Spice Elephant          Yes         No   4.1    787   \n",
       "2        San Churro Cafe          Yes         No   3.8    918   \n",
       "3  Addhuri Udupi Bhojana           No         No   3.7     88   \n",
       "4          Grand Village           No         No   3.8    166   \n",
       "\n",
       "   approx_cost(for two people) listed_in(type)  \n",
       "0                          800          Buffet  \n",
       "1                          800          Buffet  \n",
       "2                          800          Buffet  \n",
       "3                          300          Buffet  \n",
       "4                          600          Buffet  "
      ]
     },
     "execution_count": 97,
     "metadata": {},
     "output_type": "execute_result"
    }
   ],
   "source": [
    "dataframe.head() # The head() method returns the first 5 rows if a number is not specified."
   ]
  },
  {
   "cell_type": "code",
   "execution_count": 98,
   "id": "d4d174b5-07b5-4203-8f93-ccb3e056df13",
   "metadata": {},
   "outputs": [
    {
     "data": {
      "text/plain": [
       "Text(0.5, 0, 'Type of Resturent')"
      ]
     },
     "execution_count": 98,
     "metadata": {},
     "output_type": "execute_result"
    },
    {
     "data": {
      "image/png": "[encoded data removed]",
      "text/plain": [
       "<Figure size 640x480 with 1 Axes>"
      ]
     },
     "metadata": {},
     "output_type": "display_data"
    }
   ],
   "source": [
    "sns.countplot(x=dataframe['listed_in(type)'])\n",
    "plt.xlabel(\"Type of Resturent\")"
   ]
  },
  {
   "cell_type": "raw",
   "id": "285f282f-bc30-477b-8b57-972c71f7b360",
   "metadata": {},
   "source": [
    "# Conclusion - Majority of the restaurant falls in Dinning Category"
   ]
  },
  {
   "cell_type": "markdown",
   "id": "b4c0ed65-210d-4e58-a455-71bf3550ef52",
   "metadata": {},
   "source": [
    "# 2) Votes has each type of restaurant received from customers [Line Graph]"
   ]
  },
  {
   "cell_type": "code",
   "execution_count": 99,
   "id": "44be2be0-6791-4b53-8c1b-a51eeb3cd9db",
   "metadata": {},
   "outputs": [
    {
     "data": {
      "text/html": [
       "<div>\n",
       "<style scoped>\n",
       "    .dataframe tbody tr th:only-of-type {\n",
       "        vertical-align: middle;\n",
       "    }\n",
       "\n",
       "    .dataframe tbody tr th {\n",
       "        vertical-align: top;\n",
       "    }\n",
       "\n",
       "    .dataframe thead th {\n",
       "        text-align: right;\n",
       "    }\n",
       "</style>\n",
       "<table border=\"1\" class=\"dataframe\">\n",
       "  <thead>\n",
       "    <tr style=\"text-align: right;\">\n",
       "      <th></th>\n",
       "      <th>name</th>\n",
       "      <th>online_order</th>\n",
       "      <th>book_table</th>\n",
       "      <th>rate</th>\n",
       "      <th>votes</th>\n",
       "      <th>approx_cost(for two people)</th>\n",
       "      <th>listed_in(type)</th>\n",
       "    </tr>\n",
       "  </thead>\n",
       "  <tbody>\n",
       "    <tr>\n",
       "      <th>0</th>\n",
       "      <td>Jalsa</td>\n",
       "      <td>Yes</td>\n",
       "      <td>Yes</td>\n",
       "      <td>4.1</td>\n",
       "      <td>775</td>\n",
       "      <td>800</td>\n",
       "      <td>Buffet</td>\n",
       "    </tr>\n",
       "    <tr>\n",
       "      <th>1</th>\n",
       "      <td>Spice Elephant</td>\n",
       "      <td>Yes</td>\n",
       "      <td>No</td>\n",
       "      <td>4.1</td>\n",
       "      <td>787</td>\n",
       "      <td>800</td>\n",
       "      <td>Buffet</td>\n",
       "    </tr>\n",
       "    <tr>\n",
       "      <th>2</th>\n",
       "      <td>San Churro Cafe</td>\n",
       "      <td>Yes</td>\n",
       "      <td>No</td>\n",
       "      <td>3.8</td>\n",
       "      <td>918</td>\n",
       "      <td>800</td>\n",
       "      <td>Buffet</td>\n",
       "    </tr>\n",
       "    <tr>\n",
       "      <th>3</th>\n",
       "      <td>Addhuri Udupi Bhojana</td>\n",
       "      <td>No</td>\n",
       "      <td>No</td>\n",
       "      <td>3.7</td>\n",
       "      <td>88</td>\n",
       "      <td>300</td>\n",
       "      <td>Buffet</td>\n",
       "    </tr>\n",
       "    <tr>\n",
       "      <th>4</th>\n",
       "      <td>Grand Village</td>\n",
       "      <td>No</td>\n",
       "      <td>No</td>\n",
       "      <td>3.8</td>\n",
       "      <td>166</td>\n",
       "      <td>600</td>\n",
       "      <td>Buffet</td>\n",
       "    </tr>\n",
       "  </tbody>\n",
       "</table>\n",
       "</div>"
      ],
      "text/plain": [
       "                    name online_order book_table  rate  votes  \\\n",
       "0                  Jalsa          Yes        Yes   4.1    775   \n",
       "1         Spice Elephant          Yes         No   4.1    787   \n",
       "2        San Churro Cafe          Yes         No   3.8    918   \n",
       "3  Addhuri Udupi Bhojana           No         No   3.7     88   \n",
       "4          Grand Village           No         No   3.8    166   \n",
       "\n",
       "   approx_cost(for two people) listed_in(type)  \n",
       "0                          800          Buffet  \n",
       "1                          800          Buffet  \n",
       "2                          800          Buffet  \n",
       "3                          300          Buffet  \n",
       "4                          600          Buffet  "
      ]
     },
     "execution_count": 99,
     "metadata": {},
     "output_type": "execute_result"
    }
   ],
   "source": [
    "dataframe.head()"
   ]
  },
  {
   "cell_type": "code",
   "execution_count": 100,
   "id": "8f45b7d4-1990-47fc-81dd-c4f3add14235",
   "metadata": {},
   "outputs": [
    {
     "data": {
      "image/png": "[encoded data removed]",
      "text/plain": [
       "<Figure size 640x480 with 1 Axes>"
      ]
     },
     "metadata": {},
     "output_type": "display_data"
    }
   ],
   "source": [
    "grouped_date = dataframe.groupby('listed_in(type)')['votes'].sum()\n",
    "result = pd.DataFrame({'votes': grouped_date})\n",
    "plt.plot(result, c = 'red', marker = \"o\")\n",
    "plt.xlabel(\"Type of Resturents\", c = 'green', size = 10)\n",
    "plt.ylabel(\"Votes\", c = 'blue', size = 10)\n",
    "plt.show()"
   ]
  },
  {
   "cell_type": "raw",
   "id": "fa08413a-5812-4f6b-9113-8ca33d979939",
   "metadata": {},
   "source": [
    "# Conclusion - Dining restaurant has received maximum votes"
   ]
  },
  {
   "cell_type": "markdown",
   "id": "c7c276de-866c-4894-8ee6-ca13fcb73d04",
   "metadata": {},
   "source": [
    "# 3) Count ratings that the majority of restaurants have received"
   ]
  },
  {
   "cell_type": "code",
   "execution_count": 101,
   "id": "b7c6a002-e39f-420a-aa50-d0bdd6756717",
   "metadata": {},
   "outputs": [
    {
     "data": {
      "text/html": [
       "<div>\n",
       "<style scoped>\n",
       "    .dataframe tbody tr th:only-of-type {\n",
       "        vertical-align: middle;\n",
       "    }\n",
       "\n",
       "    .dataframe tbody tr th {\n",
       "        vertical-align: top;\n",
       "    }\n",
       "\n",
       "    .dataframe thead th {\n",
       "        text-align: right;\n",
       "    }\n",
       "</style>\n",
       "<table border=\"1\" class=\"dataframe\">\n",
       "  <thead>\n",
       "    <tr style=\"text-align: right;\">\n",
       "      <th></th>\n",
       "      <th>name</th>\n",
       "      <th>online_order</th>\n",
       "      <th>book_table</th>\n",
       "      <th>rate</th>\n",
       "      <th>votes</th>\n",
       "      <th>approx_cost(for two people)</th>\n",
       "      <th>listed_in(type)</th>\n",
       "    </tr>\n",
       "  </thead>\n",
       "  <tbody>\n",
       "    <tr>\n",
       "      <th>0</th>\n",
       "      <td>Jalsa</td>\n",
       "      <td>Yes</td>\n",
       "      <td>Yes</td>\n",
       "      <td>4.1</td>\n",
       "      <td>775</td>\n",
       "      <td>800</td>\n",
       "      <td>Buffet</td>\n",
       "    </tr>\n",
       "    <tr>\n",
       "      <th>1</th>\n",
       "      <td>Spice Elephant</td>\n",
       "      <td>Yes</td>\n",
       "      <td>No</td>\n",
       "      <td>4.1</td>\n",
       "      <td>787</td>\n",
       "      <td>800</td>\n",
       "      <td>Buffet</td>\n",
       "    </tr>\n",
       "    <tr>\n",
       "      <th>2</th>\n",
       "      <td>San Churro Cafe</td>\n",
       "      <td>Yes</td>\n",
       "      <td>No</td>\n",
       "      <td>3.8</td>\n",
       "      <td>918</td>\n",
       "      <td>800</td>\n",
       "      <td>Buffet</td>\n",
       "    </tr>\n",
       "    <tr>\n",
       "      <th>3</th>\n",
       "      <td>Addhuri Udupi Bhojana</td>\n",
       "      <td>No</td>\n",
       "      <td>No</td>\n",
       "      <td>3.7</td>\n",
       "      <td>88</td>\n",
       "      <td>300</td>\n",
       "      <td>Buffet</td>\n",
       "    </tr>\n",
       "    <tr>\n",
       "      <th>4</th>\n",
       "      <td>Grand Village</td>\n",
       "      <td>No</td>\n",
       "      <td>No</td>\n",
       "      <td>3.8</td>\n",
       "      <td>166</td>\n",
       "      <td>600</td>\n",
       "      <td>Buffet</td>\n",
       "    </tr>\n",
       "  </tbody>\n",
       "</table>\n",
       "</div>"
      ],
      "text/plain": [
       "                    name online_order book_table  rate  votes  \\\n",
       "0                  Jalsa          Yes        Yes   4.1    775   \n",
       "1         Spice Elephant          Yes         No   4.1    787   \n",
       "2        San Churro Cafe          Yes         No   3.8    918   \n",
       "3  Addhuri Udupi Bhojana           No         No   3.7     88   \n",
       "4          Grand Village           No         No   3.8    166   \n",
       "\n",
       "   approx_cost(for two people) listed_in(type)  \n",
       "0                          800          Buffet  \n",
       "1                          800          Buffet  \n",
       "2                          800          Buffet  \n",
       "3                          300          Buffet  \n",
       "4                          600          Buffet  "
      ]
     },
     "execution_count": 101,
     "metadata": {},
     "output_type": "execute_result"
    }
   ],
   "source": [
    "dataframe.head()"
   ]
  },
  {
   "cell_type": "code",
   "execution_count": 102,
   "id": "c1db3c08-2df0-4573-b975-e9c14426d407",
   "metadata": {},
   "outputs": [
    {
     "data": {
      "image/png": "[encoded data removed]",
      "text/plain": [
       "<Figure size 640x480 with 1 Axes>"
      ]
     },
     "metadata": {},
     "output_type": "display_data"
    }
   ],
   "source": [
    "plt.hist(dataframe['rate'], bins = 10)\n",
    "plt.title('Rating Distribution')\n",
    "plt.show()\n"
   ]
  },
  {
   "cell_type": "raw",
   "id": "91da9dfe-58e0-45a9-9b22-5453360db79b",
   "metadata": {},
   "source": [
    "# Conclusion - The majority of restaurants have received rating from 3.5 to 4"
   ]
  },
  {
   "cell_type": "markdown",
   "id": "ec1abf30-0596-4bc4-b735-89eaecd82a72",
   "metadata": {},
   "source": [
    "# 4) Average order spending by couples"
   ]
  },
  {
   "cell_type": "code",
   "execution_count": 103,
   "id": "2f761a7f-4227-4c0b-9d32-92866b7cc107",
   "metadata": {},
   "outputs": [
    {
     "data": {
      "text/html": [
       "<div>\n",
       "<style scoped>\n",
       "    .dataframe tbody tr th:only-of-type {\n",
       "        vertical-align: middle;\n",
       "    }\n",
       "\n",
       "    .dataframe tbody tr th {\n",
       "        vertical-align: top;\n",
       "    }\n",
       "\n",
       "    .dataframe thead th {\n",
       "        text-align: right;\n",
       "    }\n",
       "</style>\n",
       "<table border=\"1\" class=\"dataframe\">\n",
       "  <thead>\n",
       "    <tr style=\"text-align: right;\">\n",
       "      <th></th>\n",
       "      <th>name</th>\n",
       "      <th>online_order</th>\n",
       "      <th>book_table</th>\n",
       "      <th>rate</th>\n",
       "      <th>votes</th>\n",
       "      <th>approx_cost(for two people)</th>\n",
       "      <th>listed_in(type)</th>\n",
       "    </tr>\n",
       "  </thead>\n",
       "  <tbody>\n",
       "    <tr>\n",
       "      <th>0</th>\n",
       "      <td>Jalsa</td>\n",
       "      <td>Yes</td>\n",
       "      <td>Yes</td>\n",
       "      <td>4.1</td>\n",
       "      <td>775</td>\n",
       "      <td>800</td>\n",
       "      <td>Buffet</td>\n",
       "    </tr>\n",
       "    <tr>\n",
       "      <th>1</th>\n",
       "      <td>Spice Elephant</td>\n",
       "      <td>Yes</td>\n",
       "      <td>No</td>\n",
       "      <td>4.1</td>\n",
       "      <td>787</td>\n",
       "      <td>800</td>\n",
       "      <td>Buffet</td>\n",
       "    </tr>\n",
       "    <tr>\n",
       "      <th>2</th>\n",
       "      <td>San Churro Cafe</td>\n",
       "      <td>Yes</td>\n",
       "      <td>No</td>\n",
       "      <td>3.8</td>\n",
       "      <td>918</td>\n",
       "      <td>800</td>\n",
       "      <td>Buffet</td>\n",
       "    </tr>\n",
       "    <tr>\n",
       "      <th>3</th>\n",
       "      <td>Addhuri Udupi Bhojana</td>\n",
       "      <td>No</td>\n",
       "      <td>No</td>\n",
       "      <td>3.7</td>\n",
       "      <td>88</td>\n",
       "      <td>300</td>\n",
       "      <td>Buffet</td>\n",
       "    </tr>\n",
       "    <tr>\n",
       "      <th>4</th>\n",
       "      <td>Grand Village</td>\n",
       "      <td>No</td>\n",
       "      <td>No</td>\n",
       "      <td>3.8</td>\n",
       "      <td>166</td>\n",
       "      <td>600</td>\n",
       "      <td>Buffet</td>\n",
       "    </tr>\n",
       "  </tbody>\n",
       "</table>\n",
       "</div>"
      ],
      "text/plain": [
       "                    name online_order book_table  rate  votes  \\\n",
       "0                  Jalsa          Yes        Yes   4.1    775   \n",
       "1         Spice Elephant          Yes         No   4.1    787   \n",
       "2        San Churro Cafe          Yes         No   3.8    918   \n",
       "3  Addhuri Udupi Bhojana           No         No   3.7     88   \n",
       "4          Grand Village           No         No   3.8    166   \n",
       "\n",
       "   approx_cost(for two people) listed_in(type)  \n",
       "0                          800          Buffet  \n",
       "1                          800          Buffet  \n",
       "2                          800          Buffet  \n",
       "3                          300          Buffet  \n",
       "4                          600          Buffet  "
      ]
     },
     "execution_count": 103,
     "metadata": {},
     "output_type": "execute_result"
    }
   ],
   "source": [
    "dataframe.head()"
   ]
  },
  {
   "cell_type": "code",
   "execution_count": 104,
   "id": "fe5302ad-d1e2-4eb6-8ff1-5790b850c39d",
   "metadata": {},
   "outputs": [
    {
     "data": {
      "text/plain": [
       "<Axes: xlabel='approx_cost(for two people)', ylabel='count'>"
      ]
     },
     "execution_count": 104,
     "metadata": {},
     "output_type": "execute_result"
    },
    {
     "data": {
      "image/png": "[encoded data removed]",
      "text/plain": [
       "<Figure size 640x480 with 1 Axes>"
      ]
     },
     "metadata": {},
     "output_type": "display_data"
    }
   ],
   "source": [
    "couple_data = dataframe ['approx_cost(for two people)']\n",
    "sns.countplot (x = couple_data)"
   ]
  },
  {
   "cell_type": "raw",
   "id": "06046584-a7b2-4369-bd60-99a4ac19a69a",
   "metadata": {},
   "source": [
    "# Conclusion - The majority of couples prefer restaurants with an approximate cost of 300 rupees"
   ]
  },
  {
   "cell_type": "markdown",
   "id": "0829bd95-c64d-4b69-ad15-f705ccf44ecd",
   "metadata": {},
   "source": [
    "# 5) Which mode (online or offline) has received the maximum rating?"
   ]
  },
  {
   "cell_type": "code",
   "execution_count": 105,
   "id": "64b7f79c-34de-4b1b-8c32-bf56870bdb52",
   "metadata": {},
   "outputs": [
    {
     "data": {
      "text/html": [
       "<div>\n",
       "<style scoped>\n",
       "    .dataframe tbody tr th:only-of-type {\n",
       "        vertical-align: middle;\n",
       "    }\n",
       "\n",
       "    .dataframe tbody tr th {\n",
       "        vertical-align: top;\n",
       "    }\n",
       "\n",
       "    .dataframe thead th {\n",
       "        text-align: right;\n",
       "    }\n",
       "</style>\n",
       "<table border=\"1\" class=\"dataframe\">\n",
       "  <thead>\n",
       "    <tr style=\"text-align: right;\">\n",
       "      <th></th>\n",
       "      <th>name</th>\n",
       "      <th>online_order</th>\n",
       "      <th>book_table</th>\n",
       "      <th>rate</th>\n",
       "      <th>votes</th>\n",
       "      <th>approx_cost(for two people)</th>\n",
       "      <th>listed_in(type)</th>\n",
       "    </tr>\n",
       "  </thead>\n",
       "  <tbody>\n",
       "    <tr>\n",
       "      <th>0</th>\n",
       "      <td>Jalsa</td>\n",
       "      <td>Yes</td>\n",
       "      <td>Yes</td>\n",
       "      <td>4.1</td>\n",
       "      <td>775</td>\n",
       "      <td>800</td>\n",
       "      <td>Buffet</td>\n",
       "    </tr>\n",
       "    <tr>\n",
       "      <th>1</th>\n",
       "      <td>Spice Elephant</td>\n",
       "      <td>Yes</td>\n",
       "      <td>No</td>\n",
       "      <td>4.1</td>\n",
       "      <td>787</td>\n",
       "      <td>800</td>\n",
       "      <td>Buffet</td>\n",
       "    </tr>\n",
       "    <tr>\n",
       "      <th>2</th>\n",
       "      <td>San Churro Cafe</td>\n",
       "      <td>Yes</td>\n",
       "      <td>No</td>\n",
       "      <td>3.8</td>\n",
       "      <td>918</td>\n",
       "      <td>800</td>\n",
       "      <td>Buffet</td>\n",
       "    </tr>\n",
       "    <tr>\n",
       "      <th>3</th>\n",
       "      <td>Addhuri Udupi Bhojana</td>\n",
       "      <td>No</td>\n",
       "      <td>No</td>\n",
       "      <td>3.7</td>\n",
       "      <td>88</td>\n",
       "      <td>300</td>\n",
       "      <td>Buffet</td>\n",
       "    </tr>\n",
       "    <tr>\n",
       "      <th>4</th>\n",
       "      <td>Grand Village</td>\n",
       "      <td>No</td>\n",
       "      <td>No</td>\n",
       "      <td>3.8</td>\n",
       "      <td>166</td>\n",
       "      <td>600</td>\n",
       "      <td>Buffet</td>\n",
       "    </tr>\n",
       "  </tbody>\n",
       "</table>\n",
       "</div>"
      ],
      "text/plain": [
       "                    name online_order book_table  rate  votes  \\\n",
       "0                  Jalsa          Yes        Yes   4.1    775   \n",
       "1         Spice Elephant          Yes         No   4.1    787   \n",
       "2        San Churro Cafe          Yes         No   3.8    918   \n",
       "3  Addhuri Udupi Bhojana           No         No   3.7     88   \n",
       "4          Grand Village           No         No   3.8    166   \n",
       "\n",
       "   approx_cost(for two people) listed_in(type)  \n",
       "0                          800          Buffet  \n",
       "1                          800          Buffet  \n",
       "2                          800          Buffet  \n",
       "3                          300          Buffet  \n",
       "4                          600          Buffet  "
      ]
     },
     "execution_count": 105,
     "metadata": {},
     "output_type": "execute_result"
    }
   ],
   "source": [
    "dataframe.head()"
   ]
  },
  {
   "cell_type": "code",
   "execution_count": 106,
   "id": "aff2c2a8-3fee-468b-80c1-20e48d131957",
   "metadata": {},
   "outputs": [
    {
     "data": {
      "text/plain": [
       "<Axes: xlabel='online_order', ylabel='rate'>"
      ]
     },
     "execution_count": 106,
     "metadata": {},
     "output_type": "execute_result"
    },
    {
     "data": {
      "image/png": "[encoded data removed]",
      "text/plain": [
       "<Figure size 1000x600 with 1 Axes>"
      ]
     },
     "metadata": {},
     "output_type": "display_data"
    }
   ],
   "source": [
    "plt.figure (figsize = (10,6))\n",
    "sns.boxplot(x = 'online_order', y = 'rate', data = dataframe)"
   ]
  },
  {
   "cell_type": "raw",
   "id": "d7fabb28-85c0-4c0d-9c5f-b64ef9f94e45",
   "metadata": {},
   "source": [
    "# Conclusion - Offline order received low rating in comparison to online order"
   ]
  },
  {
   "cell_type": "markdown",
   "id": "585e27a1-bf7f-4eae-b1e2-be1d164b7b9a",
   "metadata": {},
   "source": [
    "# 6)  Which type of restaurant received more offline orders, so that Swiggy can provide those customers with some good offers?"
   ]
  },
  {
   "cell_type": "code",
   "execution_count": 107,
   "id": "75b8a1df-3f0c-486e-aab2-19bf345ca173",
   "metadata": {},
   "outputs": [
    {
     "data": {
      "text/html": [
       "<div>\n",
       "<style scoped>\n",
       "    .dataframe tbody tr th:only-of-type {\n",
       "        vertical-align: middle;\n",
       "    }\n",
       "\n",
       "    .dataframe tbody tr th {\n",
       "        vertical-align: top;\n",
       "    }\n",
       "\n",
       "    .dataframe thead th {\n",
       "        text-align: right;\n",
       "    }\n",
       "</style>\n",
       "<table border=\"1\" class=\"dataframe\">\n",
       "  <thead>\n",
       "    <tr style=\"text-align: right;\">\n",
       "      <th></th>\n",
       "      <th>name</th>\n",
       "      <th>online_order</th>\n",
       "      <th>book_table</th>\n",
       "      <th>rate</th>\n",
       "      <th>votes</th>\n",
       "      <th>approx_cost(for two people)</th>\n",
       "      <th>listed_in(type)</th>\n",
       "    </tr>\n",
       "  </thead>\n",
       "  <tbody>\n",
       "    <tr>\n",
       "      <th>0</th>\n",
       "      <td>Jalsa</td>\n",
       "      <td>Yes</td>\n",
       "      <td>Yes</td>\n",
       "      <td>4.1</td>\n",
       "      <td>775</td>\n",
       "      <td>800</td>\n",
       "      <td>Buffet</td>\n",
       "    </tr>\n",
       "    <tr>\n",
       "      <th>1</th>\n",
       "      <td>Spice Elephant</td>\n",
       "      <td>Yes</td>\n",
       "      <td>No</td>\n",
       "      <td>4.1</td>\n",
       "      <td>787</td>\n",
       "      <td>800</td>\n",
       "      <td>Buffet</td>\n",
       "    </tr>\n",
       "    <tr>\n",
       "      <th>2</th>\n",
       "      <td>San Churro Cafe</td>\n",
       "      <td>Yes</td>\n",
       "      <td>No</td>\n",
       "      <td>3.8</td>\n",
       "      <td>918</td>\n",
       "      <td>800</td>\n",
       "      <td>Buffet</td>\n",
       "    </tr>\n",
       "    <tr>\n",
       "      <th>3</th>\n",
       "      <td>Addhuri Udupi Bhojana</td>\n",
       "      <td>No</td>\n",
       "      <td>No</td>\n",
       "      <td>3.7</td>\n",
       "      <td>88</td>\n",
       "      <td>300</td>\n",
       "      <td>Buffet</td>\n",
       "    </tr>\n",
       "    <tr>\n",
       "      <th>4</th>\n",
       "      <td>Grand Village</td>\n",
       "      <td>No</td>\n",
       "      <td>No</td>\n",
       "      <td>3.8</td>\n",
       "      <td>166</td>\n",
       "      <td>600</td>\n",
       "      <td>Buffet</td>\n",
       "    </tr>\n",
       "  </tbody>\n",
       "</table>\n",
       "</div>"
      ],
      "text/plain": [
       "                    name online_order book_table  rate  votes  \\\n",
       "0                  Jalsa          Yes        Yes   4.1    775   \n",
       "1         Spice Elephant          Yes         No   4.1    787   \n",
       "2        San Churro Cafe          Yes         No   3.8    918   \n",
       "3  Addhuri Udupi Bhojana           No         No   3.7     88   \n",
       "4          Grand Village           No         No   3.8    166   \n",
       "\n",
       "   approx_cost(for two people) listed_in(type)  \n",
       "0                          800          Buffet  \n",
       "1                          800          Buffet  \n",
       "2                          800          Buffet  \n",
       "3                          300          Buffet  \n",
       "4                          600          Buffet  "
      ]
     },
     "execution_count": 107,
     "metadata": {},
     "output_type": "execute_result"
    }
   ],
   "source": [
    "dataframe.head()"
   ]
  },
  {
   "cell_type": "code",
   "execution_count": 108,
   "id": "a1b2415d-a6e9-4bef-af16-eca2b3f0289f",
   "metadata": {},
   "outputs": [
    {
     "data": {
      "image/png": "[encoded data removed]",
      "text/plain": [
       "<Figure size 640x480 with 2 Axes>"
      ]
     },
     "metadata": {},
     "output_type": "display_data"
    }
   ],
   "source": [
    "pivot_table = dataframe.pivot_table(index = 'listed_in(type)', columns = 'online_order', aggfunc = 'size', fill_value = 0)\n",
    "sns.heatmap (pivot_table, annot = True, cmap = \"YlGnBu\", fmt = 'd')\n",
    "plt.title('Heatmap')\n",
    "plt.xlabel('Online Order')\n",
    "plt.ylabel('listed_in(type)')\n",
    "plt.show()"
   ]
  },
  {
   "cell_type": "raw",
   "id": "16c9af85-d253-4271-9289-a9bffaa83b88",
   "metadata": {},
   "source": [
    "# Conclusion: Dining restaurants primarily accept offline order whereas cafes primarily receive online order. This suggests that clients prefer to place order in person at restaurants, but prefer online ordering at cafes."
   ]
  },
  {
   "cell_type": "code",
   "execution_count": null,
   "id": "0ffaf422-d0a0-4fa0-8528-95f5f5199ef0",
   "metadata": {},
   "outputs": [],
   "source": []
  }
 ],
 "metadata": {
  "kernelspec": {
   "display_name": "Python 3 (ipykernel)",
   "language": "python",
   "name": "python3"
  },
  "language_info": {
   "codemirror_mode": {
    "name": "ipython",
    "version": 3
   },
   "file_extension": ".py",
   "mimetype": "text/x-python",
   "name": "python",
   "nbconvert_exporter": "python",
   "pygments_lexer": "ipython3",
   "version": "3.12.6"
  }
 },
 "nbformat": 4,
 "nbformat_minor": 5
}
